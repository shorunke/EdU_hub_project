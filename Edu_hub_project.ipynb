{
 "cells": [
  {
   "cell_type": "markdown",
   "id": "f95f646d",
   "metadata": {},
   "source": [
    "#### Import the neccessary libraries"
   ]
  },
  {
   "cell_type": "code",
   "execution_count": 2,
   "id": "4c4fd6e4",
   "metadata": {},
   "outputs": [],
   "source": [
    "from pymongo import MongoClient\n",
    "from datetime import datetime,timedelta\n",
    "import pandas as pd\n",
    "import random\n",
    "from faker import Faker\n",
    "\n"
   ]
  },
  {
   "cell_type": "markdown",
   "id": "8b818f93",
   "metadata": {},
   "source": [
    "#### Connecting to mongodb and creating Eduhub database"
   ]
  },
  {
   "cell_type": "code",
   "execution_count": 3,
   "id": "54790780",
   "metadata": {},
   "outputs": [],
   "source": [
    "client = MongoClient('mongodb://localhost:27017/')\n",
    "db = client['Eduhub_db']"
   ]
  },
  {
   "cell_type": "markdown",
   "id": "e8f715b6",
   "metadata": {},
   "source": [
    "### Creation of Collections schema"
   ]
  },
  {
   "cell_type": "markdown",
   "id": "c50089c9",
   "metadata": {},
   "source": [
    "#### Creating user schema with validation rule"
   ]
  },
  {
   "cell_type": "code",
   "execution_count": 4,
   "id": "ad34f7ba",
   "metadata": {},
   "outputs": [],
   "source": [
    "\n",
    "user_schema = {\n",
    "        '$jsonSchema':{\n",
    "            'bsonType':'object',\n",
    "            'required': ['userId','email','firstName','lastName'],\n",
    "            'properties':{\n",
    "                'userId':{\n",
    "                    'bsonType':'string',\n",
    "                    \n",
    "                    'description': 'UserId must be string and unique'\n",
    "                },\n",
    "                'email':{\n",
    "                    'bsonType':'string',\n",
    "                    \n",
    "                    'description': 'Email must be string and unique'\n",
    "                },\n",
    "                'firstName':{\n",
    "                    'bsonType':'string',\n",
    "                    'description':'firstName must be  string'\n",
    "                },\n",
    "                'lastName':{\n",
    "                    'bsonType':'string',\n",
    "                    'description':'lastName must be string'\n",
    "                },\n",
    "                'role':{\n",
    "                    'bsonType':'string',\n",
    "                    'enum':['student','instructor'],\n",
    "                    'description': 'Role must be student or instructor'\n",
    "                    \n",
    "                },\n",
    "                'dateJoined':{\n",
    "                    'bsonType':'date',\n",
    "                    'description':'Datejoined should be date'\n",
    "                    \n",
    "                },\n",
    "                'profile':{\n",
    "                    'bsonType':'object',\n",
    "                    'properties':{\n",
    "                        'bio':{\n",
    "                            'bsonType':'string',\n",
    "                            'description':'Bio data should be string'\n",
    "                        },\n",
    "                        'avatar':{\n",
    "                            'bsonType':'string',\n",
    "                            'description':\"Avatar should be string\"\n",
    "                        },\n",
    "                        'skills':{\n",
    "                            'bsonType':'string',\n",
    "                            'description':'skills should string'\n",
    "                        },\n",
    "                        'isactive':{\n",
    "                            'bsonType':'bool',\n",
    "                            'description': 'Isactive must be boolean'\n",
    "                        }\n",
    "                    }\n",
    "                }\n",
    "            }\n",
    "        }\n",
    "    }\n"
   ]
  },
  {
   "cell_type": "markdown",
   "id": "f45ced48",
   "metadata": {},
   "source": [
    "#### Creating User collection"
   ]
  },
  {
   "cell_type": "code",
   "execution_count": 5,
   "id": "9624555a",
   "metadata": {},
   "outputs": [
    {
     "data": {
      "text/plain": [
       "Collection(Database(MongoClient(host=['localhost:27017'], document_class=dict, tz_aware=False, connect=True), 'Eduhub_db'), 'user')"
      ]
     },
     "execution_count": 5,
     "metadata": {},
     "output_type": "execute_result"
    }
   ],
   "source": [
    "#drop collection if exist\n",
    "db.drop_collection('user')\n",
    "\n",
    "db.create_collection('user',validator=user_schema)"
   ]
  },
  {
   "cell_type": "code",
   "execution_count": 6,
   "id": "fa787c0f",
   "metadata": {},
   "outputs": [
    {
     "data": {
      "text/plain": [
       "'userId_1'"
      ]
     },
     "execution_count": 6,
     "metadata": {},
     "output_type": "execute_result"
    }
   ],
   "source": [
    "db.user.create_index('userId', unique=True)"
   ]
  },
  {
   "cell_type": "code",
   "execution_count": 7,
   "id": "665e7883",
   "metadata": {},
   "outputs": [
    {
     "data": {
      "text/plain": [
       "'email_1'"
      ]
     },
     "execution_count": 7,
     "metadata": {},
     "output_type": "execute_result"
    }
   ],
   "source": [
    "db.user.create_index('email',unique=True)"
   ]
  },
  {
   "cell_type": "markdown",
   "id": "71dd6e04",
   "metadata": {},
   "source": [
    "#### Creating course schema"
   ]
  },
  {
   "cell_type": "code",
   "execution_count": 8,
   "id": "7dcb004f",
   "metadata": {},
   "outputs": [],
   "source": [
    "\n",
    "courses_schema = {\n",
    "        '$jsonSchema': {\n",
    "            'bsonType':'object',\n",
    "            'required':['title'],\n",
    "            'properties':{\n",
    "                'courseId':{\n",
    "                    'bsonType':'string',\n",
    "                    \n",
    "                    'description':'courseId should be a string'\n",
    "                },\n",
    "                'title':{\n",
    "                    'bsonType':'string',\n",
    "                    'description': 'title should be a string'\n",
    "                },\n",
    "                'description':{\n",
    "                    'bsonType':'string',\n",
    "                    'description':'it should be a string'\n",
    "                },\n",
    "                'instructorId':{            # reference to user_schema\n",
    "                    'bsonType': 'string',\n",
    "                    'description': 'InstructorId should be a srting' \n",
    "                },\n",
    "                'category':{\n",
    "                    'bsonType':'string',\n",
    "                    'description': 'category should be a string'\n",
    "                },\n",
    "                'level':{\n",
    "                    'bsonType':'string',\n",
    "                    'enum': ['beginner', 'intermediate', 'advanced'],\n",
    "                    'description': 'level should be beginner,intermed'\n",
    "                },\n",
    "                'duration':{\n",
    "                    'bsonType': 'double',\n",
    "                    'description':'Duration should be number in hrs'\n",
    "                },\n",
    "                'price':{\n",
    "                    'bsonType':'double',\n",
    "                    'description':'Price should be number'\n",
    "                },\n",
    "                'tag':{\n",
    "                    'bsonType':'array',\n",
    "                    'items':{\n",
    "                        'bsonType':'string'\n",
    "                    },\n",
    "                    'description':'tag should be string'\n",
    "                },\n",
    "                'createdAt':{\n",
    "                    'bsonType':'date',\n",
    "                    'description': 'createdAT should be datetime'\n",
    "                },\n",
    "                'updatedAt':{\n",
    "                    'bsonType':'date',\n",
    "                    'description':'updatedAt should be datetime'\n",
    "                },\n",
    "                'isPublished':{\n",
    "                    'bsonType':'bool',\n",
    "                    'description': 'it should be a Boolean'\n",
    "                }\n",
    "            }\n",
    "        }\n",
    "    }\n",
    "\n",
    "\n",
    "\n",
    "\n"
   ]
  },
  {
   "cell_type": "markdown",
   "id": "427eaae1",
   "metadata": {},
   "source": [
    "#### Creating course collection"
   ]
  },
  {
   "cell_type": "code",
   "execution_count": 9,
   "id": "2a4a36a3",
   "metadata": {},
   "outputs": [
    {
     "data": {
      "text/plain": [
       "Collection(Database(MongoClient(host=['localhost:27017'], document_class=dict, tz_aware=False, connect=True), 'Eduhub_db'), 'courses')"
      ]
     },
     "execution_count": 9,
     "metadata": {},
     "output_type": "execute_result"
    }
   ],
   "source": [
    "\n",
    "db.drop_collection('courses')\n",
    "\n",
    "db.create_collection('courses',validator=courses_schema)"
   ]
  },
  {
   "cell_type": "code",
   "execution_count": 10,
   "id": "8f53ff00",
   "metadata": {},
   "outputs": [
    {
     "data": {
      "text/plain": [
       "'courseId_1'"
      ]
     },
     "execution_count": 10,
     "metadata": {},
     "output_type": "execute_result"
    }
   ],
   "source": [
    "db.courses.create_index('courseId', unique=True)"
   ]
  },
  {
   "cell_type": "markdown",
   "id": "4812b3a3",
   "metadata": {},
   "source": [
    "#### Creating enrollment schema"
   ]
  },
  {
   "cell_type": "code",
   "execution_count": 11,
   "id": "0b8a0e57",
   "metadata": {},
   "outputs": [],
   "source": [
    "\n",
    "enrollment_schema = {\n",
    "        '$jsonSchema':{\n",
    "            'bsonType':'object',\n",
    "            'required':['userId','courseId','enrolled_on'],\n",
    "            'properties':{\n",
    "                'userId':{                           #references userId\n",
    "                    'bsonType':'string',             \n",
    "                    'description':'userId should be string that matches the userId in the user collection'\n",
    "                },\n",
    "                'courseId':{                        # references courses\n",
    "                    'bsonType':'string',\n",
    "                    'description':'courseId should be string that matches the courseId in courses collection'\n",
    "                    \n",
    "                },\n",
    "                'enrolled_on':{\n",
    "                    'bsonType':'date',\n",
    "                    'description': 'enrolled_on should be date'\n",
    "                }\n",
    "            }\n",
    "        }\n",
    "    }\n"
   ]
  },
  {
   "cell_type": "markdown",
   "id": "4543f73a",
   "metadata": {},
   "source": [
    "#### creating enrollment collection"
   ]
  },
  {
   "cell_type": "code",
   "execution_count": 12,
   "id": "1b47b034",
   "metadata": {},
   "outputs": [
    {
     "data": {
      "text/plain": [
       "Collection(Database(MongoClient(host=['localhost:27017'], document_class=dict, tz_aware=False, connect=True), 'Eduhub_db'), 'enrollments')"
      ]
     },
     "execution_count": 12,
     "metadata": {},
     "output_type": "execute_result"
    }
   ],
   "source": [
    "# Drop enrollments collections if exits\n",
    "db.drop_collection('enrollments')\n",
    "\n",
    "db.create_collection('enrollments',validator=enrollment_schema)"
   ]
  },
  {
   "cell_type": "code",
   "execution_count": 13,
   "id": "b71889ba",
   "metadata": {},
   "outputs": [
    {
     "data": {
      "text/plain": [
       "'userId_1_courseId_1'"
      ]
     },
     "execution_count": 13,
     "metadata": {},
     "output_type": "execute_result"
    }
   ],
   "source": [
    "# To prvent duplication for same user in the same course : create a compound index\n",
    "\n",
    "db.enrollments.create_index([('userId',1),('courseId',1)], unique=True)"
   ]
  },
  {
   "cell_type": "markdown",
   "id": "608d74c0",
   "metadata": {},
   "source": [
    "#### Creating lesson schema"
   ]
  },
  {
   "cell_type": "code",
   "execution_count": 14,
   "id": "9a63aa7f",
   "metadata": {},
   "outputs": [],
   "source": [
    "\n",
    "lesson_schema = {\n",
    "        \"$jsonSchema\": {\n",
    "            \"bsonType\": \"object\",\n",
    "            \"required\": [\"courseId\", \"title\", \"content\", \"order\"],\n",
    "            \"properties\": {\n",
    "                \"courseId\": {\n",
    "                    \"bsonType\": \"string\",\n",
    "                    \"description\": \"courseId should be a string that references a course\"\n",
    "                },\n",
    "                \"title\": {\n",
    "                    \"bsonType\": \"string\",\n",
    "                    \"description\": \"title should be a string\"\n",
    "                },\n",
    "                \"content\": {\n",
    "                    \"bsonType\": \"string\",\n",
    "                    \"description\": \"content should be a string\"\n",
    "                },\n",
    "                \"order\": {\n",
    "                    \"bsonType\": \"int\",\n",
    "                    \"description\": \"order should be an integer\"\n",
    "                }\n",
    "            }\n",
    "        }\n",
    "    }\n",
    "\n"
   ]
  },
  {
   "cell_type": "markdown",
   "id": "68863cc7",
   "metadata": {},
   "source": [
    "#### Creating lessons collection"
   ]
  },
  {
   "cell_type": "code",
   "execution_count": 15,
   "id": "e57d1779",
   "metadata": {},
   "outputs": [
    {
     "data": {
      "text/plain": [
       "Collection(Database(MongoClient(host=['localhost:27017'], document_class=dict, tz_aware=False, connect=True), 'Eduhub_db'), 'lessons')"
      ]
     },
     "execution_count": 15,
     "metadata": {},
     "output_type": "execute_result"
    }
   ],
   "source": [
    "#drop lesson collection if exist\n",
    "db.drop_collection('lessons')\n",
    "\n",
    "db.create_collection('lessons', validator=lesson_schema)"
   ]
  },
  {
   "cell_type": "code",
   "execution_count": 16,
   "id": "bdb956a6",
   "metadata": {},
   "outputs": [
    {
     "data": {
      "text/plain": [
       "'courseId_1_order_1'"
      ]
     },
     "execution_count": 16,
     "metadata": {},
     "output_type": "execute_result"
    }
   ],
   "source": [
    "# To make courseId and order to be unique\n",
    "db.lessons.create_index([('courseId',1),('order',1)], unique=True)"
   ]
  },
  {
   "cell_type": "markdown",
   "id": "ebeca9e3",
   "metadata": {},
   "source": [
    "#### Creating assignment schema"
   ]
  },
  {
   "cell_type": "code",
   "execution_count": 22,
   "id": "00121fbb",
   "metadata": {},
   "outputs": [],
   "source": [
    "\n",
    "    assignment_schema = {\n",
    "        \"$jsonSchema\": {\n",
    "            \"bsonType\": \"object\",\n",
    "            \"required\": [\"lessonId\", \"title\", \"description\", \"due_date\"],\n",
    "            \"properties\": {\n",
    "                \"lessonId\": {\n",
    "                    \"bsonType\": \"string\",\n",
    "                    \"description\": \"lessonId should be a string and reference lessonId in lessons collection\"\n",
    "                },\n",
    "                \"title\": {\n",
    "                    \"bsonType\": \"string\",\n",
    "                    \"description\": \"title should be a string\"\n",
    "                },\n",
    "                \"description\": {\n",
    "                    \"bsonType\": \"string\",\n",
    "                    \"description\": \"description should be a string\"\n",
    "                },\n",
    "                \"due_date\": {\n",
    "                    \"bsonType\": \"date\",\n",
    "                    \"description\": \"due_date should be a date\"\n",
    "                }\n",
    "            }\n",
    "        }\n",
    "    }\n",
    "\n"
   ]
  },
  {
   "cell_type": "markdown",
   "id": "a3ac85bd",
   "metadata": {},
   "source": [
    "#### Create assignmnent Collection"
   ]
  },
  {
   "cell_type": "code",
   "execution_count": 23,
   "id": "f2aa09d5",
   "metadata": {},
   "outputs": [
    {
     "data": {
      "text/plain": [
       "Collection(Database(MongoClient(host=['localhost:27017'], document_class=dict, tz_aware=False, connect=True), 'Eduhub_db'), 'assignments')"
      ]
     },
     "execution_count": 23,
     "metadata": {},
     "output_type": "execute_result"
    }
   ],
   "source": [
    "# Drop assignments collection if exist\n",
    "db.drop_collection('assignments')\n",
    "\n",
    "db.create_collection('assignments', validator=assignment_schema)"
   ]
  },
  {
   "cell_type": "markdown",
   "id": "606e17d3",
   "metadata": {},
   "source": [
    "#### Creating Submmission schema"
   ]
  },
  {
   "cell_type": "code",
   "execution_count": 27,
   "id": "5b14ffe1",
   "metadata": {},
   "outputs": [],
   "source": [
    "submission_schema = {\n",
    "        \"$jsonSchema\": {\n",
    "            \"bsonType\": \"object\",\n",
    "            \"required\": [\"assignmentId\", \"userId\", \"submitted_on\", \"content\"],\n",
    "            \"properties\": {\n",
    "                \"assignmentId\": {\n",
    "                    \"bsonType\": \"string\",\n",
    "                    \"description\": \"assignmentId should be a string referencing an assignment\"\n",
    "                },\n",
    "                \"userId\": {\n",
    "                    \"bsonType\": \"string\",\n",
    "                    \"description\": \"userId should be a string referencing a user\"\n",
    "                },\n",
    "                \"submitted_on\": {\n",
    "                    \"bsonType\": \"date\",\n",
    "                    \"description\": \"submitted_on should be a date\"\n",
    "                },\n",
    "                \"content\": {\n",
    "                    \"bsonType\": \"string\",\n",
    "                    \"description\": \"content should be a string\"\n",
    "                }\n",
    "            }\n",
    "        }\n",
    "    }\n",
    "\n"
   ]
  },
  {
   "cell_type": "markdown",
   "id": "c5818802",
   "metadata": {},
   "source": [
    "#### Create submission collection"
   ]
  },
  {
   "cell_type": "code",
   "execution_count": 28,
   "id": "153f73ae",
   "metadata": {},
   "outputs": [
    {
     "data": {
      "text/plain": [
       "Collection(Database(MongoClient(host=['localhost:27017'], document_class=dict, tz_aware=False, connect=True), 'Eduhub_db'), 'submissions')"
      ]
     },
     "execution_count": 28,
     "metadata": {},
     "output_type": "execute_result"
    }
   ],
   "source": [
    "# Drop assignments collection if exist\n",
    "db.drop_collection('submissions')\n",
    "\n",
    "db.create_collection('submissions', validator=submission_schema)"
   ]
  },
  {
   "cell_type": "markdown",
   "id": "579be75f",
   "metadata": {},
   "source": [
    "### DATA POPULATION"
   ]
  },
  {
   "cell_type": "markdown",
   "id": "ae3c6b31",
   "metadata": {},
   "source": [
    "#### Inserting User collection samples(20) mixture of students and instructor"
   ]
  },
  {
   "cell_type": "code",
   "execution_count": 30,
   "id": "46ae4038",
   "metadata": {},
   "outputs": [
    {
     "name": "stdout",
     "output_type": "stream",
     "text": [
      "20 users inserted successfully.\n"
     ]
    }
   ],
   "source": [
    "fake = Faker()\n",
    "\n",
    "def insert_users(db, count=20):\n",
    "    roles = ['student', 'instructor']\n",
    "    users = []\n",
    "\n",
    "    for i in range(count):\n",
    "        role = random.choice(roles)\n",
    "        user = {\n",
    "            \"userId\": f\"user_{i+1}\",\n",
    "            \"email\": fake.unique.email(),\n",
    "            \"firstName\": fake.first_name(),\n",
    "            \"lastName\": fake.last_name(),\n",
    "            \"role\": role,\n",
    "            \"dateJoined\": datetime.utcnow(),\n",
    "            \"profile\": {\n",
    "                \"bio\": fake.sentence(),\n",
    "                \"avatar\": fake.image_url(),\n",
    "                \"skills\": fake.job(),\n",
    "                \"isactive\": random.choice([True, False])\n",
    "            }\n",
    "        }\n",
    "        users.append(user)\n",
    "\n",
    "    result = db.users.insert_many(users)\n",
    "    print(f\"{len(result.inserted_ids)} users inserted successfully.\")\n",
    "\n",
    "\n",
    "insert_users(db)\n"
   ]
  },
  {
   "cell_type": "markdown",
   "id": "cb5a7bb3",
   "metadata": {},
   "source": [
    "### Inserting coursers collection sample(8) across different categories"
   ]
  },
  {
   "cell_type": "code",
   "execution_count": 31,
   "id": "feffff28",
   "metadata": {},
   "outputs": [
    {
     "data": {
      "text/plain": [
       "InsertOneResult(ObjectId('684eecb9a449e5a129152022'), acknowledged=True)"
      ]
     },
     "execution_count": 31,
     "metadata": {},
     "output_type": "execute_result"
    }
   ],
   "source": [
    "#There is need for the user collection to have at lease a document with role:instructor \n",
    "#so the instructorId field can reference it. hence the below insertion:\n",
    "\n",
    "db.users.insert_one({\n",
    "    \"userId\": \"instructor_1\",\n",
    "    \"email\": \"ada@example.com\",\n",
    "    \"firstName\": \"Ada\",\n",
    "    \"lastName\": \"uzor\",\n",
    "    \"role\": \"instructor\",\n",
    "    \"dateJoined\": datetime.utcnow(),\n",
    "    \"profile\": {\n",
    "        \"bio\": \"Teaches coding.\",\n",
    "        \"avatar\": \"http://example.com/avatar.jpg\",\n",
    "        \"skills\": \"Python\",\n",
    "        \"isactive\": True\n",
    "    }\n",
    "})\n"
   ]
  },
  {
   "cell_type": "code",
   "execution_count": 32,
   "id": "a788f5c3",
   "metadata": {},
   "outputs": [
    {
     "name": "stdout",
     "output_type": "stream",
     "text": [
      "Successfully inserted 8 courses.\n"
     ]
    }
   ],
   "source": [
    "\n",
    "\n",
    "def sample_courses(db, count=8):\n",
    "    # Fetch instructor userIds\n",
    "    instructor_users = list(db.users.find({\"role\": \"instructor\"}, {\"userId\": 1}))\n",
    "    if not instructor_users:\n",
    "        print(\"No instructors found. Please insert instructors first.\")\n",
    "        return\n",
    "\n",
    "    categories = ['Technology', 'Business', 'Art', 'Science', 'Health']\n",
    "    levels = ['beginner', 'intermediate', 'advanced']\n",
    "    \n",
    "    courses = []\n",
    "\n",
    "    for i in range(count):\n",
    "        instructor = random.choice(instructor_users)\n",
    "        course = {\n",
    "            \"courseId\": f\"course_{i+1}\",\n",
    "            \"title\": fake.sentence(nb_words=4).rstrip('.'),\n",
    "            \"description\": fake.paragraph(),\n",
    "            \"instructorId\": instructor['userId'],\n",
    "            \"category\": random.choice(categories),\n",
    "            \"level\": random.choice(levels),\n",
    "            \"duration\": round(random.uniform(1.0, 40.0), 1),\n",
    "            \"price\": round(random.uniform(10.0, 200.0), 2),\n",
    "            \"tag\": fake.words(nb=3),\n",
    "            \"createdAt\": datetime.utcnow(),\n",
    "            \"updatedAt\": datetime.utcnow(),\n",
    "            \"isPublished\": random.choice([True, False])\n",
    "        }\n",
    "        courses.append(course)\n",
    "\n",
    "    result = db.courses.insert_many(courses)\n",
    "    print(f\"Successfully inserted {len(result.inserted_ids)} courses.\")\n",
    "\n",
    "\n",
    "\n",
    "sample_courses(db)\n"
   ]
  },
  {
   "cell_type": "code",
   "execution_count": null,
   "id": "4491bf95",
   "metadata": {},
   "outputs": [],
   "source": [
    "#### Inserting enrollment collections sample(15)"
   ]
  },
  {
   "cell_type": "code",
   "execution_count": 36,
   "id": "95c13d10",
   "metadata": {},
   "outputs": [
    {
     "name": "stdout",
     "output_type": "stream",
     "text": [
      "Successfully inserted 15 enrollments.\n"
     ]
    }
   ],
   "source": [
    "\n",
    "\n",
    "def insert_sample_enrollments(db, count=15):\n",
    "    # Get student userIds\n",
    "    student_users = list(db.users.find({\"role\": \"student\"}, {\"userId\": 1}))\n",
    "    if not student_users:\n",
    "        print(\"No students found. Please insert student users first.\")\n",
    "        return\n",
    "\n",
    "    # Get courseIds\n",
    "    course_list = list(db.courses.find({}, {\"courseId\": 1}))\n",
    "    if not course_list:\n",
    "        print(\"No courses found. Please insert courses first.\")\n",
    "        return\n",
    "\n",
    "    enrollments = []\n",
    "    for _ in range(count):\n",
    "        user = random.choice(student_users)\n",
    "        course = random.choice(course_list)\n",
    "\n",
    "        enrollment = {\n",
    "            \"userId\": user[\"userId\"],\n",
    "            \"courseId\": course[\"courseId\"],\n",
    "            \"enrolled_on\": datetime.utcnow()\n",
    "        }\n",
    "\n",
    "        enrollments.append(enrollment)\n",
    "\n",
    "    result = db.enrollments.insert_many(enrollments)\n",
    "    print(f\"Successfully inserted {len(result.inserted_ids)} enrollments.\")\n",
    "\n",
    "\n",
    "insert_sample_enrollments(db)\n"
   ]
  },
  {
   "cell_type": "markdown",
   "id": "918e6792",
   "metadata": {},
   "source": [
    "#### Inserting lessons collection samples(25)"
   ]
  },
  {
   "cell_type": "code",
   "execution_count": 37,
   "id": "802ee9c4",
   "metadata": {},
   "outputs": [
    {
     "name": "stdout",
     "output_type": "stream",
     "text": [
      " Successfully inserted 25 lessons.\n"
     ]
    }
   ],
   "source": [
    "\n",
    "\n",
    "def insert_sample_lessons(db, count=25):\n",
    "    # Get all available courseIds\n",
    "    course_ids = list(db.courses.find({}, {\"_id\": 0, \"courseId\": 1}))\n",
    "    course_ids = [c[\"courseId\"] for c in course_ids]\n",
    "\n",
    "    if not course_ids:\n",
    "        print(\" No courses found. Please insert courses first.\")\n",
    "        return\n",
    "\n",
    "    lessons = []\n",
    "    for i in range(count):\n",
    "        lesson = {\n",
    "            \"courseId\": random.choice(course_ids),\n",
    "            \"title\": fake.sentence(nb_words=6),\n",
    "            \"content\": fake.paragraph(nb_sentences=5),\n",
    "            \"order\": random.randint(1, 20)\n",
    "        }\n",
    "        lessons.append(lesson)\n",
    "\n",
    "    result = db.lessons.insert_many(lessons)\n",
    "    print(f\" Successfully inserted {len(result.inserted_ids)} lessons.\")\n",
    "\n",
    "\n",
    "insert_sample_lessons(db)\n"
   ]
  },
  {
   "cell_type": "markdown",
   "id": "7e8ea4e9",
   "metadata": {},
   "source": [
    "#### Inserting assignments collections sample(10)"
   ]
  },
  {
   "cell_type": "code",
   "execution_count": 38,
   "id": "96c9f622",
   "metadata": {},
   "outputs": [
    {
     "name": "stdout",
     "output_type": "stream",
     "text": [
      "Inserted 10 assignments.\n"
     ]
    }
   ],
   "source": [
    "\n",
    "\n",
    "def sample_assignments(db, count=10):\n",
    "    # Fetch existing lessonIds\n",
    "    lesson_ids = list(db.lessons.find({}, {\"_id\": 0, \"lessonId\": 1}))\n",
    "\n",
    "    # Handle the case where lessonId might not exist yet\n",
    "    if not lesson_ids:\n",
    "        print(\" No lessons found. Please insert lessons first.\")\n",
    "        return\n",
    "\n",
    "    # If lessonId field is not set, we can assume _id or generate our own field\n",
    "    # For now, we will use the \"_id\" field from MongoDB ObjectId\n",
    "    lesson_ids = list(db.lessons.find({}, {\"_id\": 1}))\n",
    "    lesson_ids = [str(l[\"_id\"]) for l in lesson_ids]\n",
    "\n",
    "    assignments = []\n",
    "    for i in range(count):\n",
    "        assignment = {\n",
    "            \"lessonId\": random.choice(lesson_ids),\n",
    "            \"title\": fake.sentence(nb_words=5),\n",
    "            \"description\": fake.paragraph(nb_sentences=3),\n",
    "            \"due_date\": datetime.utcnow() + timedelta(days=random.randint(1, 30))\n",
    "        }\n",
    "        assignments.append(assignment)\n",
    "\n",
    "    result = db.assignments.insert_many(assignments)\n",
    "    print(f\"Inserted {len(result.inserted_ids)} assignments.\")\n",
    "\n",
    "\n",
    "sample_assignments(db)\n"
   ]
  },
  {
   "cell_type": "markdown",
   "id": "2f104a1b",
   "metadata": {},
   "source": [
    "#### Inserting submissions collection samples(12)"
   ]
  },
  {
   "cell_type": "code",
   "execution_count": 40,
   "id": "a1e9ca93",
   "metadata": {},
   "outputs": [
    {
     "name": "stdout",
     "output_type": "stream",
     "text": [
      "Successfully inserted 12 submissions.\n"
     ]
    }
   ],
   "source": [
    "\n",
    "\n",
    "def sample_submissions(db, count=12):\n",
    "    # Get assignment IDs from the 'assignments' collection\n",
    "    assignments = list(db.assignments.find({}, {\"_id\": 1}))\n",
    "    if not assignments:\n",
    "        print(\" No assignments found. Please insert assignments first.\")\n",
    "        return\n",
    "\n",
    "    assignment_ids = [str(assignment[\"_id\"]) for assignment in assignments]\n",
    "\n",
    "    # Get student users from the 'user' collection\n",
    "    students = list(db.user.find({\"role\": \"student\"}, {\"_id\": 0, \"userId\": 1}))\n",
    "    if not students:\n",
    "        print(\" No students found. Please insert student users first.\")\n",
    "        return\n",
    "\n",
    "    student_ids = [student[\"userId\"] for student in students]\n",
    "\n",
    "    # Generate submissions\n",
    "    submissions = []\n",
    "    for _ in range(count):\n",
    "        submission = {\n",
    "            \"assignmentId\": random.choice(assignment_ids),\n",
    "            \"userId\": random.choice(student_ids),\n",
    "            \"submitted_on\": datetime.utcnow() - timedelta(days=random.randint(0, 10)),\n",
    "            \"content\": fake.paragraph(nb_sentences=3)\n",
    "        }\n",
    "        submissions.append(submission)\n",
    "\n",
    "    # Insert into the 'submissions' collection\n",
    "    result = db.submissions.insert_many(submissions)\n",
    "    print(f\"Successfully inserted {len(result.inserted_ids)} submissions.\")\n",
    "\n",
    "\n",
    "sample_submissions(db)\n"
   ]
  },
  {
   "cell_type": "markdown",
   "id": "102ae453",
   "metadata": {},
   "source": [
    "#### BASIC CRUD OPERATION (# Create Operation)"
   ]
  },
  {
   "cell_type": "code",
   "execution_count": 52,
   "id": "9fea962e",
   "metadata": {},
   "outputs": [
    {
     "name": "stdout",
     "output_type": "stream",
     "text": [
      "successfully inserted 684f08c7a449e5a12915208d document\n"
     ]
    }
   ],
   "source": [
    "# Add a new user\n",
    "\n",
    "resul=db.user.insert_one({\n",
    " \n",
    " \"userId\": \"user_1001\",\n",
    "    \"email\": \"ade@example.com\",\n",
    "    \"firstName\": \"Ade\",\n",
    "    \"lastName\": \"Bakari\",\n",
    "    \"role\": \"student\",\n",
    "    \"dateJoined\": datetime.utcnow(),\n",
    "    \"profile\": {\n",
    "        \"bio\": \"A passionate learner interested in backend development.\",\n",
    "        \"avatar\": \"https://placekitten.com/300/300\",\n",
    "        \"skills\": \"Python, MongoDB\",\n",
    "        \"isactive\": True\n",
    "    }\n",
    "})\n",
    "    \n",
    "print(f'successfully inserted {resul.inserted_id} document')"
   ]
  },
  {
   "cell_type": "code",
   "execution_count": null,
   "id": "f57a5fa9",
   "metadata": {},
   "outputs": [],
   "source": []
  }
 ],
 "metadata": {
  "kernelspec": {
   "display_name": "Python 3 (ipykernel)",
   "language": "python",
   "name": "python3"
  },
  "language_info": {
   "codemirror_mode": {
    "name": "ipython",
    "version": 3
   },
   "file_extension": ".py",
   "mimetype": "text/x-python",
   "name": "python",
   "nbconvert_exporter": "python",
   "pygments_lexer": "ipython3",
   "version": "3.10.9"
  }
 },
 "nbformat": 4,
 "nbformat_minor": 5
}
